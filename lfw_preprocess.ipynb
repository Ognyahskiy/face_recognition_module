{
 "cells": [
  {
   "cell_type": "code",
   "execution_count": 37,
   "id": "25ebe5bf-85bd-4f62-bd05-fca0bb878646",
   "metadata": {},
   "outputs": [
    {
     "name": "stdout",
     "output_type": "stream",
     "text": [
      "Collecting split-folders\n",
      "  Downloading split_folders-0.5.1-py3-none-any.whl (8.4 kB)\n",
      "Installing collected packages: split-folders\n",
      "Successfully installed split-folders-0.5.1\n",
      "Note: you may need to restart the kernel to use updated packages.\n"
     ]
    }
   ],
   "source": [
    "pip install split-folders"
   ]
  },
  {
   "cell_type": "code",
   "execution_count": 2,
   "id": "c6eb6c83-cfc3-4a1c-9d49-c8c55ff29c8f",
   "metadata": {},
   "outputs": [],
   "source": [
    "import os\n",
    "import shutil\n",
    "\n",
    "import splitfolders"
   ]
  },
  {
   "cell_type": "code",
   "execution_count": 3,
   "id": "c6288535-4164-4afe-af5a-48e51ae5ca16",
   "metadata": {},
   "outputs": [],
   "source": [
    "def create_root_dir(base_path, target_path, counter, photo_per_person):\n",
    "    count = 0\n",
    "    if not os.path.exists(target_path):\n",
    "        os.makedirs(target_path)\n",
    "    for folder_name in os.listdir(base_path):\n",
    "        if count == counter:\n",
    "            break\n",
    "        folder_path = os.path.join(base_path, folder_name)\n",
    "        if os.path.isdir(folder_path):\n",
    "            num_images = len(\n",
    "                [\n",
    "                    name\n",
    "                    for name in os.listdir(folder_path)\n",
    "                    if os.path.isfile(os.path.join(folder_path, name))\n",
    "                ]\n",
    "            )\n",
    "            if num_images >= photo_per_person:\n",
    "                countfiles = 0\n",
    "                for file in os.listdir(folder_path):\n",
    "                    file_path = os.path.join(folder_path, file)\n",
    "                    target_folder_path = os.path.join(target_path, folder_name)\n",
    "                    if not os.path.exists(target_folder_path):\n",
    "                        os.makedirs(target_folder_path)\n",
    "                    shutil.copy2(file_path, target_folder_path)\n",
    "                    countfiles += 1\n",
    "                    if countfiles == photo_per_person:\n",
    "                        break\n",
    "                count += 1\n",
    "    print(\n",
    "        f\"Подпапки с {photo_per_person} изображениями были скопированы в {target_path}\"\n",
    "    )"
   ]
  },
  {
   "cell_type": "code",
   "execution_count": 5,
   "id": "f36283c0-303f-4d31-8830-bbc26e5c5946",
   "metadata": {},
   "outputs": [],
   "source": [
    "db = \"lfw\""
   ]
  },
  {
   "cell_type": "code",
   "execution_count": 6,
   "id": "ee93a9d1-0b36-4a82-b7f2-448a59ef9804",
   "metadata": {},
   "outputs": [
    {
     "name": "stdout",
     "output_type": "stream",
     "text": [
      "Подпапки с 7 изображениями были скопированы в 200classes\n",
      "Подпапки с 9 изображениями были скопированы в 150classes\n",
      "Подпапки с 13 изображениями были скопированы в 100classes\n",
      "Подпапки с 21 изображениями были скопированы в 50classes\n"
     ]
    }
   ],
   "source": [
    "# create_root_dir(db,lfw50,50,21)\n",
    "# create_root_dir(db,lfw100,100,13)\n",
    "# create_root_dir(db,lfw150,150,9)\n",
    "# create_root_dir(db,lfw200,200,7)\n",
    "create_root_dir(db, \"200classes\", 200, 7)\n",
    "create_root_dir(db, \"150classes\", 150, 9)\n",
    "create_root_dir(db, \"100classes\", 100, 13)\n",
    "create_root_dir(db, \"50classes\", 50, 21)"
   ]
  },
  {
   "cell_type": "code",
   "execution_count": 7,
   "id": "332d6e91-47db-478e-997f-1d4458805f8c",
   "metadata": {},
   "outputs": [
    {
     "name": "stderr",
     "output_type": "stream",
     "text": [
      "Copying files: 1350 files [00:00, 8038.62 files/s]\n",
      "Copying files: 1300 files [00:00, 12272.24 files/s]\n",
      "Copying files: 1050 files [00:00, 12688.08 files/s]\n"
     ]
    }
   ],
   "source": [
    "splitfolders.ratio(\"200classes\", output=\"200classes_data\", seed=1337, ratio=(0.8, 0.2))\n",
    "splitfolders.ratio(\"150classes\", output=\"150classes_data\", seed=1337, ratio=(0.8, 0.2))\n",
    "splitfolders.ratio(\"100classes\", output=\"100classes_data\", seed=1337, ratio=(0.8, 0.2))\n",
    "splitfolders.ratio(\"50classes\", output=\"50classes_data\", seed=1337, ratio=(0.8, 0.2))"
   ]
  },
  {
   "cell_type": "code",
   "execution_count": null,
   "id": "2c18671e-75a9-4054-bf3e-45c1d5da3eee",
   "metadata": {},
   "outputs": [],
   "source": []
  }
 ],
 "metadata": {
  "kernelspec": {
   "display_name": "test",
   "language": "python",
   "name": "test"
  },
  "language_info": {
   "codemirror_mode": {
    "name": "ipython",
    "version": 3
   },
   "file_extension": ".py",
   "mimetype": "text/x-python",
   "name": "python",
   "nbconvert_exporter": "python",
   "pygments_lexer": "ipython3",
   "version": "3.10.12"
  }
 },
 "nbformat": 4,
 "nbformat_minor": 5
}
